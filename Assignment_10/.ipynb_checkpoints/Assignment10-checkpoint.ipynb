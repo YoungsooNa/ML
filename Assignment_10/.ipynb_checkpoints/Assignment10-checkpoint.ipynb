{
 "cells": [
  {
   "cell_type": "code",
   "execution_count": 18,
   "metadata": {},
   "outputs": [],
   "source": [
    "import matplotlib.pyplot as plt\n",
    "import numpy as np\n",
    "import time\n",
    "file_data   = \"mnist.csv\"\n",
    "handle_file = open(file_data, \"r\")\n",
    "data        = handle_file.readlines()\n",
    "handle_file.close()\n",
    "\n",
    "size_row    = 28    # height of the image\n",
    "size_col    = 28    # width of the image\n",
    "\n",
    "num_image   = len(data)\n",
    "count       = 0     # count for the number of images\n",
    "\n",
    "#\n",
    "# normalize the values of the input data to be [0, 1]\n",
    "#\n",
    "def normalize(data):\n",
    "\n",
    "    data_normalized = (data - min(data)) / (max(data) - min(data))\n",
    "\n",
    "    return(data_normalized)\n",
    "\n",
    "#\n",
    "# make a matrix each column of which represents an images in a vector form\n",
    "#\n",
    "list_image  = np.empty((size_row * size_col, num_image), dtype=float)\n",
    "list_label  = np.empty(num_image, dtype=int)\n",
    "\n",
    "for line in data:\n",
    "\n",
    "    line_data   = line.split(',')\n",
    "    label       = line_data[0]\n",
    "    im_vector   = np.asfarray(line_data[1:])\n",
    "    # already normalized\n",
    "    im_vector   = normalize(im_vector)\n",
    "\n",
    "    list_label[count]       = label\n",
    "    list_image[:, count]    = im_vector\n",
    "\n",
    "    count += 1\n",
    "    \n",
    "#    \n",
    "# making a value of labels into one-hot encoded array\n",
    "#\n",
    "def one_hot_encoding(array, num):\n",
    "    new_list = []\n",
    "    for i in array:\n",
    "        temp_list = [0]*num\n",
    "        temp_list[i] = 1\n",
    "        new_list.append(temp_list)\n",
    "    \n",
    "    return new_list\n",
    "\n",
    "x_train_o = list_image[:, :1000]\n",
    "y_train_o = np.asarray(one_hot_encoding(list_label[:1000],10))\n",
    "\n",
    "x_val_o = list_image[:, 1000:]\n",
    "y_val_o = np.asarray(one_hot_encoding(list_label[1000:],10))"
   ]
  },
  {
   "cell_type": "code",
   "execution_count": 9,
   "metadata": {},
   "outputs": [],
   "source": [
    "import torch\n",
    "\n",
    "device = 'cuda' if torch.cuda.is_available() else 'cpu'\n",
    "\n",
    "x_train = torch.Tensor(x_train_o).to(device)\n",
    "y_train = torch.Tensor(y_train_o).to(device)\n",
    "\n",
    "x_val = torch.Tensor(x_val_o).to(device)\n",
    "y_val = torch.Tensor(y_val_o).to(device)"
   ]
  },
  {
   "cell_type": "code",
   "execution_count": 3,
   "metadata": {},
   "outputs": [],
   "source": [
    "def sigmoid(z):\n",
    "    a = 1 / (1 + torch.exp(-z))\n",
    "    return a\n",
    "\n",
    "def softmax(z):\n",
    "    exp_z = torch.exp(z)\n",
    "    return exp_z / torch.sum(exp_z, axis=1).reshape(-1, 1)"
   ]
  },
  {
   "cell_type": "code",
   "execution_count": 4,
   "metadata": {},
   "outputs": [],
   "source": [
    "class FCN:\n",
    "    def __init__(self, architect, epochs=100, lr=0.1, l2=0, starting = 0, model_name = 'fcn'):\n",
    "        # parameters\n",
    "        self.w = []\n",
    "        self.b = []\n",
    "        self.architect = architect\n",
    "        self.initialize(architect)\n",
    "        \n",
    "        # for calculate\n",
    "        self.a = [0]*(len(self.w)+1)\n",
    "        self.dw = [0]*len(self.w)\n",
    "        self.db = [0]*len(self.w)\n",
    "        \n",
    "        # log\n",
    "        self.loss_log = []\n",
    "        self.acc_log = []\n",
    "        self.val_loss_log = []\n",
    "        self.val_acc_log = []\n",
    "        \n",
    "        # hyper parameters\n",
    "        self.start_lr = lr\n",
    "        self.lr = lr\n",
    "        self.l2 = l2\n",
    "        self.epochs = epochs\n",
    "        \n",
    "        # ect\n",
    "        self.starting = starting\n",
    "        self.model_path = 'model/'\n",
    "        self.model_name = model_name\n",
    "        self.last_saved_time = 0\n",
    "        np.random.seed(444)\n",
    "    \n",
    "    def initialize(self, architect):\n",
    "        for i in range(len(architect)-1):\n",
    "            self.w.append(torch.Tensor(np.random.normal(0, 1, (architect[i], architect[i+1]))).to(device))\n",
    "            self.b.append(torch.Tensor(np.zeros(architect[i+1])).to(device))\n",
    "    \n",
    "    def forpass(self, x):\n",
    "        z = x.t()\n",
    "        self.a[0] = z\n",
    "        for i in range(len(self.w)):\n",
    "            y = torch.mm(z, self.w[i]) + self.b[i]\n",
    "            z = sigmoid(y)\n",
    "            self.a[i+1] = z\n",
    "        \n",
    "        return y\n",
    "    \n",
    "    def backprop(self, err):\n",
    "        m = len(self.a[0])\n",
    "        err_h = err\n",
    "        \n",
    "        for i in range(len(self.w)-1, 0, -1):\n",
    "            self.dw[i] = torch.mm(self.a[i].T, err_h)/ m\n",
    "            if i== len(self.w)-1:\n",
    "                self.db[i] = torch.sum(err_h) / m\n",
    "            else:\n",
    "                self.db[i] = torch.sum(err_h, axis=0) / m\n",
    "            \n",
    "            err_h = torch.mm(err_h, self.w[i].T ) * self.a[i] * ( 1 - self.a[i])\n",
    "    \n",
    "    def update(self, m):\n",
    "        for i in range(len(self.w)):\n",
    "            m = len(self.a[0])\n",
    "            self.dw[i] += self.l2 * self.w[i] / m\n",
    "            self.w[i] -= self.lr * self.dw[i]\n",
    "            self.b[i] -= self.lr * self.db[i]\n",
    "\n",
    "    def training(self, x, y):\n",
    "        m = len(x)\n",
    "        z = self.forpass(x)\n",
    "        a = softmax(z)\n",
    "        err = -(y - a)\n",
    "        self.backprop(err)\n",
    "        self.update(m)\n",
    "        \n",
    "        return a\n",
    "    \n",
    "    def fit(self, x, y, val_x, val_y):\n",
    "        m = len(x)\n",
    "        for k in range(self.epochs):\n",
    "            a = self.training(x, y)\n",
    "            a = torch.clamp(a, min=1e-10, max=1-1e-10)\n",
    "            \n",
    "            loss = torch.sum(-y*torch.log(a))\n",
    "            \n",
    "            z_v = self.forpass(x_val)\n",
    "            a_v = softmax(z_v)\n",
    "            a_v = torch.clamp(a_v, min=1e-10, max=1-1e-10)\n",
    "            \n",
    "            val_loss = torch.sum(-val_y*torch.log(a_v))\n",
    "            \n",
    "            l2_sum = 0\n",
    "            for i in range(len(self.w)):\n",
    "                l2_sum += self.l2 / 2 * torch.sum(self.w[i]**2)\n",
    "            \n",
    "            loss += l2_sum\n",
    "            val_loss += l2_sum\n",
    "            \n",
    "            acc = torch.argmax(a, axis=1) == torch.argmax(y, axis=1)\n",
    "            acc = torch.mean(acc.float())\n",
    "            val_acc = torch.argmax(a_v, axis=1) == torch.argmax(val_y, axis=1)\n",
    "            val_acc = torch.mean(val_acc.float())\n",
    "            \n",
    "            \n",
    "            self.loss_log.append(loss.item())\n",
    "            self.acc_log.append(acc.item())\n",
    "            self.val_loss_log.append(val_loss.item())\n",
    "            self.val_acc_log.append(val_acc.item())\n",
    "            \n",
    "            # decrease learning rate at each epoch\n",
    "            #self.lr -=  self.start_lr / (self.epochs) * 0.1\n",
    "\n",
    "        self.last_saved_time = int(time.time())\n",
    "        self.save_model(self.epochs+self.starting, f\"{self.model_name}_{self.last_saved_time}_{self.epochs+self.starting}_{np.max(self.val_acc_log):>.8}\"  + \".pt\")\n",
    "                \n",
    "                \n",
    "    def save_model(self, epoch, name):\n",
    "        torch.save({\n",
    "            'epoch': epoch,\n",
    "            'acc' : self.acc_log,\n",
    "            'loss': self.loss_log,\n",
    "            'val_loss' : self.val_loss_log,\n",
    "            'val_acc' : self.val_acc_log,\n",
    "            'w' : self.w,\n",
    "            'b' : self.b,\n",
    "            'slr':self.start_lr,\n",
    "            'lr': self.lr,\n",
    "            'l2': self.l2,\n",
    "        }, self.model_path + name)\n",
    "    \n",
    "    def load_model(self, name, new_epoch):\n",
    "        saved_model = torch.load(self.model_path + name)\n",
    "        self.starting = saved_model['epoch']\n",
    "        self.start_lr = saved_model['slr']\n",
    "        self.lr = saved_model['lr']\n",
    "        self.l2 = saved_model['l2']\n",
    "        self.w = saved_model['w']\n",
    "        self.b = saved_model['b']\n",
    "        self.acc_log = saved_model['acc']\n",
    "        self.loss_log = saved_model['loss']\n",
    "        self.val_acc = saved_model['val_acc']\n",
    "        self.val_loss = saved_model['val_loss']\n",
    "        self.a = [0]*(len(self.w)+1)\n",
    "        self.dw = [0]*len(self.w)\n",
    "        self.db = [0]*len(self.w)\n",
    "        self.epochs = new_epoch\n",
    "        \n",
    "                         \n",
    "                         \n",
    "                         \n",
    "        \n",
    "        \n"
   ]
  },
  {
   "cell_type": "code",
   "execution_count": 5,
   "metadata": {},
   "outputs": [],
   "source": [
    "def draw_acc(fcn, save=False, name='', show=True):\n",
    "        plt.plot(np.squeeze(fcn.acc_log), color='b', label='train')\n",
    "        plt.plot(np.squeeze(fcn.val_acc_log), color='r', label='test')\n",
    "        plt.ylabel('accuracy')\n",
    "        plt.xlabel('iterations ')\n",
    "        plt.legend()\n",
    "        plt.title(\"Learning rate =\" + str(fcn.start_lr)+\"  L2 =\" + str(fcn.l2) + \" model : \" + str(fcn.model_name))\n",
    "        if save:\n",
    "            plt.savefig(name)\n",
    "            plt.cla()\n",
    "        if show:\n",
    "            plt.show()\n",
    "        \n",
    "            \n",
    "        \n",
    "def draw_err(fcn, save=False, name='',show=True):\n",
    "        plt.plot(np.squeeze(fcn.loss_log), color='b', label='train')\n",
    "        plt.plot(np.squeeze(fcn.val_loss_log), color='r', label='test')\n",
    "        plt.ylabel('loss')            \n",
    "        plt.xlabel('iterations ')\n",
    "        plt.legend()\n",
    "        plt.title(\"Learning rate =\" + str(fcn.start_lr)+\"  L2 =\" + str(fcn.l2) + \" model : \" + str(fcn.model_name))\n",
    "        if save:\n",
    "            plt.savefig(name)\n",
    "            plt.cla()\n",
    "        if show:\n",
    "            plt.show()\n",
    "        "
   ]
  },
  {
   "cell_type": "code",
   "execution_count": 10,
   "metadata": {},
   "outputs": [],
   "source": [
    "simple = [784, 196, 49, 10]\n",
    "n1 = FCN(simple, epochs=3000, l2=0.005, lr = 0.05)\n",
    "n1.fit(x_train, y_train, x_val, y_val)"
   ]
  },
  {
   "cell_type": "code",
   "execution_count": 31,
   "metadata": {},
   "outputs": [],
   "source": [
    "z_v = n1.forpass(x_val)\n",
    "a_v = softmax(z_v)\n",
    "\n",
    "predict = torch.argmax(a_v, axis=1)\n",
    "\n",
    "correct_index = []\n",
    "wrong_index = []\n",
    "\n",
    "for i in range(400):\n",
    "    if len(correct_index) == 10 and len(wrong_index) == 10:\n",
    "        break\n",
    "    \n",
    "    if predict[i].item() == torch.argmax(y_val[i]) and len(correct_index) != 10:\n",
    "        correct_index.append(i)\n",
    "    elif len(wrong_index) != 10:\n",
    "        wrong_index.append(i)\n",
    "\n",
    "def show_index(index_list):\n",
    "    for i in range(10):\n",
    "        index = index_list[i]\n",
    "        label =  predict[index].item()\n",
    "        im_vector = x_val_o[:, index]\n",
    "        im_matrix = im_vector.reshape((28, 28))\n",
    "            \n",
    "        plt.subplot(2, 5, i+1)\n",
    "        plt.title(label)\n",
    "        plt.imshow(im_matrix, cmap='Greys', interpolation='None')\n",
    "            \n",
    "        frame = plt.gca()\n",
    "        frame.axes.get_xaxis().set_visible(False)\n",
    "        frame.axes.get_yaxis().set_visible(False)\n",
    "    "
   ]
  },
  {
   "cell_type": "markdown",
   "metadata": {},
   "source": [
    "### 1. Plot the loss curve"
   ]
  },
  {
   "cell_type": "code",
   "execution_count": 11,
   "metadata": {},
   "outputs": [
    {
     "data": {
      "image/png": "[encoded data removed]",
      "text/plain": [
       "<Figure size 432x288 with 1 Axes>"
      ]
     },
     "metadata": {
      "needs_background": "light"
     },
     "output_type": "display_data"
    }
   ],
   "source": [
    "draw_err(n1)"
   ]
  },
  {
   "cell_type": "markdown",
   "metadata": {},
   "source": [
    "### 2. Plot the accuracy curve"
   ]
  },
  {
   "cell_type": "code",
   "execution_count": 12,
   "metadata": {},
   "outputs": [
    {
     "data": {
      "image/png": "[encoded data removed]",
      "text/plain": [
       "<Figure size 432x288 with 1 Axes>"
      ]
     },
     "metadata": {
      "needs_background": "light"
     },
     "output_type": "display_data"
    }
   ],
   "source": [
    "draw_acc(n1)"
   ]
  },
  {
   "cell_type": "markdown",
   "metadata": {},
   "source": [
    "### 3. Plot the accuracy value"
   ]
  },
  {
   "cell_type": "code",
   "execution_count": 13,
   "metadata": {},
   "outputs": [
    {
     "name": "stdout",
     "output_type": "stream",
     "text": [
      "training accuracy   : 80.40000200271606% \n",
      "validation accuracy : 75.46666860580444%\n"
     ]
    }
   ],
   "source": [
    "print( f\"training accuracy   : {n1.acc_log[-1]*100}% \\nvalidation accuracy : {n1.val_acc_log[-1]*100}%\")"
   ]
  },
  {
   "cell_type": "markdown",
   "metadata": {},
   "source": [
    "### 4. Plot the classification example"
   ]
  },
  {
   "cell_type": "code",
   "execution_count": 32,
   "metadata": {},
   "outputs": [
    {
     "data": {
      "image/png": "[encoded data removed]",
      "text/plain": [
       "<Figure size 432x288 with 10 Axes>"
      ]
     },
     "metadata": {
      "needs_background": "light"
     },
     "output_type": "display_data"
    }
   ],
   "source": [
    "show_index(correct_index)"
   ]
  },
  {
   "cell_type": "code",
   "execution_count": 33,
   "metadata": {},
   "outputs": [
    {
     "data": {
      "image/png": "[encoded data removed]",
      "text/plain": [
       "<Figure size 432x288 with 10 Axes>"
      ]
     },
     "metadata": {
      "needs_background": "light"
     },
     "output_type": "display_data"
    }
   ],
   "source": [
    "show_index(wrong_index)"
   ]
  },
  {
   "cell_type": "markdown",
   "metadata": {},
   "source": [
    "### 5. Testing accuracy"
   ]
  },
  {
   "cell_type": "code",
   "execution_count": 34,
   "metadata": {},
   "outputs": [
    {
     "name": "stdout",
     "output_type": "stream",
     "text": [
      "0.7546666860580444\n"
     ]
    }
   ],
   "source": [
    "print( n1.val_acc_log[-1])"
   ]
  },
  {
   "cell_type": "code",
   "execution_count": null,
   "metadata": {},
   "outputs": [],
   "source": []
  }
 ],
 "metadata": {
  "kernelspec": {
   "display_name": "Python 3",
   "language": "python",
   "name": "python3"
  },
  "language_info": {
   "codemirror_mode": {
    "name": "ipython",
    "version": 3
   },
   "file_extension": ".py",
   "mimetype": "text/x-python",
   "name": "python",
   "nbconvert_exporter": "python",
   "pygments_lexer": "ipython3",
   "version": "3.7.4"
  }
 },
 "nbformat": 4,
 "nbformat_minor": 2
}

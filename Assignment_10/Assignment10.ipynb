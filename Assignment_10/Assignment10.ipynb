{
 "cells": [
  {
   "cell_type": "code",
   "execution_count": 84,
   "metadata": {},
   "outputs": [],
   "source": [
    "import matplotlib.pyplot as plt\n",
    "import numpy as np\n",
    "\n",
    "file_data   = \"mnist.csv\"\n",
    "handle_file = open(file_data, \"r\")\n",
    "data        = handle_file.readlines()\n",
    "handle_file.close()\n",
    "\n",
    "size_row    = 28    # height of the image\n",
    "size_col    = 28    # width of the image\n",
    "\n",
    "num_image   = len(data)\n",
    "count       = 0     # count for the number of images\n",
    "\n",
    "#\n",
    "# normalize the values of the input data to be [0, 1]\n",
    "#\n",
    "def normalize(data):\n",
    "\n",
    "    data_normalized = (data - min(data)) / (max(data) - min(data))\n",
    "\n",
    "    return(data_normalized)\n",
    "\n",
    "#\n",
    "# make a matrix each column of which represents an images in a vector form\n",
    "#\n",
    "list_image  = np.empty((size_row * size_col, num_image), dtype=float)\n",
    "list_label  = np.empty(num_image, dtype=int)\n",
    "\n",
    "for line in data:\n",
    "\n",
    "    line_data   = line.split(',')\n",
    "    label       = line_data[0]\n",
    "    im_vector   = np.asfarray(line_data[1:])\n",
    "    # already normalized\n",
    "    im_vector   = normalize(im_vector)\n",
    "\n",
    "    list_label[count]       = label\n",
    "    list_image[:, count]    = im_vector\n",
    "\n",
    "    count += 1\n",
    "    \n",
    "#    \n",
    "# making a value of labels into one-hot encoded array\n",
    "#\n",
    "def one_hot_encoding(array, num):\n",
    "    new_list = []\n",
    "    for i in array:\n",
    "        temp_list = [0]*num\n",
    "        temp_list[i] = 1\n",
    "        new_list.append(temp_list)\n",
    "    \n",
    "    return new_list\n",
    "\n",
    "x_train = list_image[:, :1000]\n",
    "y_train = np.asarray(one_hot_encoding(list_label[:1000],10))\n",
    "\n",
    "x_val = list_image[:, 1000:]\n",
    "y_val = np.asarray(one_hot_encoding(list_label[1000:],10))"
   ]
  },
  {
   "cell_type": "code",
   "execution_count": 2,
   "metadata": {},
   "outputs": [
    {
     "data": {
      "text/plain": [
       "(784, 1000)"
      ]
     },
     "execution_count": 2,
     "metadata": {},
     "output_type": "execute_result"
    }
   ],
   "source": [
    "x_train.shape"
   ]
  },
  {
   "cell_type": "code",
   "execution_count": 99,
   "metadata": {},
   "outputs": [],
   "source": [
    "import torch\n",
    "\n",
    "device = 'cuda' if torch.cuda.is_available() else 'cpu'\n",
    "\n",
    "x_train = torch.Tensor(x_train).to(device)\n",
    "y_train = torch.Tensor(y_train).to(device)\n",
    "\n",
    "x_val = torch.Tensor(x_val).to(device)\n",
    "y_val = torch.Tensor(y_val).to(device)"
   ]
  },
  {
   "cell_type": "code",
   "execution_count": 94,
   "metadata": {},
   "outputs": [],
   "source": [
    "def sigmoid(z):\n",
    "    a = 1 / (1 + torch.exp(-z))\n",
    "    return a\n",
    "\n",
    "def softmax(z):\n",
    "    exp_z = torch.exp(z)\n",
    "    return exp_z / torch.sum(exp_z, axis=1).reshape(-1, 1)"
   ]
  },
  {
   "cell_type": "code",
   "execution_count": 87,
   "metadata": {},
   "outputs": [
    {
     "data": {
      "text/plain": [
       "tensor([[0., 0., 0.,  ..., 0., 0., 0.],\n",
       "        [0., 0., 0.,  ..., 0., 0., 0.],\n",
       "        [0., 0., 0.,  ..., 0., 0., 0.],\n",
       "        ...,\n",
       "        [0., 0., 0.,  ..., 0., 0., 0.],\n",
       "        [0., 0., 0.,  ..., 0., 0., 0.],\n",
       "        [0., 0., 0.,  ..., 0., 0., 0.]], device='cuda:0')"
      ]
     },
     "execution_count": 87,
     "metadata": {},
     "output_type": "execute_result"
    }
   ],
   "source": [
    "\n",
    "x_train.to(device)"
   ]
  },
  {
   "cell_type": "code",
   "execution_count": 13,
   "metadata": {},
   "outputs": [],
   "source": [
    "simple = [784, 200, 10]\n",
    "feeling = [784, 1568, 784, 196, 49, 10]\n",
    "divide2 = [784, 392, 196, 98, 49, 10]"
   ]
  },
  {
   "cell_type": "code",
   "execution_count": 162,
   "metadata": {},
   "outputs": [],
   "source": [
    "class FCN:\n",
    "    def __init__(self, architect, epochs=100, lr=0.1, l2=0):\n",
    "        # parameters\n",
    "        self.w = []\n",
    "        self.b = []\n",
    "        self.initialize(architect)\n",
    "        \n",
    "        # for calculate\n",
    "        self.a = [0]*(len(self.w)+1)\n",
    "        self.dw = [0]*len(self.w)\n",
    "        self.db = [0]*len(self.w)\n",
    "        \n",
    "        # log\n",
    "        self.loss_log = []\n",
    "        self.acc_log = []\n",
    "        self.val_loss_log = []\n",
    "        self.val_acc_log = []\n",
    "        \n",
    "        # hyper parameters\n",
    "        self.start_lr = lr\n",
    "        self.lr = lr\n",
    "        self.l2 = l2\n",
    "        self.epochs = epochs\n",
    "        \n",
    "        np.random.seed(728)\n",
    "    \n",
    "    def initialize(self, architect):\n",
    "        for i in range(len(architect)-1):\n",
    "            self.w.append(torch.Tensor(np.random.normal(0, 1, (architect[i], architect[i+1]))).to(device))\n",
    "            self.b.append(torch.Tensor(np.zeros(architect[i+1])).to(device))\n",
    "    \n",
    "    def forpass(self, x):\n",
    "        z = x.t()\n",
    "        self.a[0] = z\n",
    "        for i in range(len(self.w)):\n",
    "            y = torch.mm(z, self.w[i]) + self.b[i]\n",
    "            z = sigmoid(y)\n",
    "            self.a[i+1] = z\n",
    "        \n",
    "        return y\n",
    "    \n",
    "    def backprop(self, err):\n",
    "        m = len(self.a[0])\n",
    "        err_h = err\n",
    "        \n",
    "        for i in range(len(self.w)-1, 0, -1):\n",
    "            self.dw[i] = torch.mm(self.a[i].T, err_h)/ m\n",
    "            if i== len(self.w)-1:\n",
    "                self.db[i] = torch.sum(err_h) / m\n",
    "            else:\n",
    "                self.db[i] = torch.sum(err_h, axis=0) / m\n",
    "            \n",
    "            err_h = torch.mm(err_h, self.w[i].T ) * self.a[i] * ( 1 - self.a[i])\n",
    "    \n",
    "    def update(self, m):\n",
    "        for i in range(len(self.w)):\n",
    "            m = len(self.a[0])\n",
    "            self.dw[i] += self.l2 * self.w[i] / m\n",
    "            self.w[i] -= self.lr * self.dw[i]\n",
    "            self.b[i] -= self.lr * self.db[i]\n",
    "\n",
    "    def training(self, x, y):\n",
    "        m = len(x)\n",
    "        z = self.forpass(x)\n",
    "        a = softmax(z)\n",
    "        err = -(y - a)\n",
    "        self.backprop(err)\n",
    "        self.update(m)\n",
    "        \n",
    "        return a\n",
    "    \n",
    "    def fit(self, x, y, val_x, val_y):\n",
    "        m = len(x)\n",
    "        for i in range(self.epochs):\n",
    "            a = self.training(x, y)\n",
    "            a = torch.clamp(a, min=1e-10, max=1-1e-10)\n",
    "            \n",
    "            loss = torch.sum(-y*torch.log(a))\n",
    "            \n",
    "            z_v = self.forpass(x_val)\n",
    "            a_v = softmax(z_v)\n",
    "            a_v = torch.clamp(a_v, min=1e-10, max=1-1e-10)\n",
    "            \n",
    "            val_loss = torch.sum(-val_y*torch.log(a_v))\n",
    "            \n",
    "            l2_sum = 0\n",
    "            for i in range(len(self.w)):\n",
    "                l2_sum += self.l2 / 2 * torch.sum(self.w[i]**2)\n",
    "            \n",
    "            loss += l2_sum\n",
    "            val_loss += l2_sum\n",
    "            \n",
    "            acc = torch.argmax(a, axis=1) == torch.argmax(y, axis=1)\n",
    "            acc = torch.mean(acc.float())\n",
    "            val_acc = torch.argmax(a_v, axis=1) == torch.argmax(val_y, axis=1)\n",
    "            val_acc = torch.mean(val_acc.float())\n",
    "            \n",
    "            \n",
    "            self.loss_log.append(loss.item())\n",
    "            self.acc_log.append(acc.item())\n",
    "            self.val_loss_log.append(val_loss.item())\n",
    "            self.val_acc_log.append(val_acc.item())\n",
    "                         \n",
    "                         \n",
    "                         \n",
    "        \n",
    "        \n"
   ]
  },
  {
   "cell_type": "code",
   "execution_count": 163,
   "metadata": {},
   "outputs": [],
   "source": [
    "n1 = FCN([784, 196, 49, 10], epochs=200)"
   ]
  },
  {
   "cell_type": "code",
   "execution_count": 164,
   "metadata": {},
   "outputs": [],
   "source": [
    "n1.fit(x_train, y_train, x_val, y_val)"
   ]
  },
  {
   "cell_type": "code",
   "execution_count": 166,
   "metadata": {},
   "outputs": [
    {
     "data": {
      "text/plain": [
       "0.31566667556762695"
      ]
     },
     "execution_count": 166,
     "metadata": {},
     "output_type": "execute_result"
    }
   ],
   "source": [
    "n1.val_acc_log[-1]"
   ]
  },
  {
   "cell_type": "code",
   "execution_count": null,
   "metadata": {},
   "outputs": [],
   "source": [
    "class SaveModel:\n",
    "    def __init__(self):\n",
    "        self.model_path = 'model/'\n",
    "        self.log_path = 'log/'\n",
    "    \n",
    "    def save_model(self, fcn, epoch):\n",
    "        torch.save({\n",
    "            'epoch': epoch,\n",
    "            'acc' : fcn.acc_log,\n",
    "            'loss': fcn.loss_log,\n",
    "            'val_acc' : fcn.val_loss_log,\n",
    "            'val_acc' : \n",
    "        })"
   ]
  }
 ],
 "metadata": {
  "kernelspec": {
   "display_name": "Python 3",
   "language": "python",
   "name": "python3"
  },
  "language_info": {
   "codemirror_mode": {
    "name": "ipython",
    "version": 3
   },
   "file_extension": ".py",
   "mimetype": "text/x-python",
   "name": "python",
   "nbconvert_exporter": "python",
   "pygments_lexer": "ipython3",
   "version": "3.7.4"
  }
 },
 "nbformat": 4,
 "nbformat_minor": 2
}

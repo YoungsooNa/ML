{
 "cells": [
  {
   "cell_type": "code",
   "execution_count": 159,
   "metadata": {},
   "outputs": [],
   "source": [
    "import matplotlib.pyplot as plt\n",
    "import numpy as np\n",
    "\n",
    "file_data   = \"mnist.csv\"\n",
    "handle_file = open(file_data, \"r\")\n",
    "data        = handle_file.readlines()\n",
    "handle_file.close()\n",
    "\n",
    "size_row    = 28    # height of the image\n",
    "size_col    = 28    # width of the image\n",
    "\n",
    "num_image   = len(data)\n",
    "count       = 0     # count for the number of images\n",
    "\n",
    "#\n",
    "# normalize the values of the input data to be [0, 1]\n",
    "#\n",
    "def normalize(data):\n",
    "\n",
    "    data_normalized = (data - min(data)) / (max(data) - min(data))\n",
    "\n",
    "    return(data_normalized)\n",
    "\n",
    "#\n",
    "# example of distance function between two vectors x and y\n",
    "#\n",
    "def distance(x, y):\n",
    "\n",
    "    d = (x - y) ** 2\n",
    "    s = np.sum(d)\n",
    "    # r = np.sqrt(s)\n",
    "\n",
    "    return(s)\n",
    "\n",
    "#\n",
    "# make a matrix each column of which represents an images in a vector form\n",
    "#\n",
    "list_image  = np.empty((size_row * size_col, num_image), dtype=float)\n",
    "list_label  = np.empty(num_image, dtype=int)\n",
    "\n",
    "for line in data:\n",
    "\n",
    "    line_data   = line.split(',')\n",
    "    label       = line_data[0]\n",
    "    im_vector   = np.asfarray(line_data[1:])\n",
    "    # already normalized\n",
    "    im_vector   = normalize(im_vector)\n",
    "\n",
    "    list_label[count]       = label\n",
    "    list_image[:, count]    = im_vector\n",
    "\n",
    "    count += 1\n",
    "\n",
    "x_train = list_image[:, :6000]\n",
    "y_train = np.asarray(one_hot_encoding(list_label[:6000],10))\n",
    "\n",
    "x_val = list_image[:, 6000:]\n",
    "y_val = np.asarray(one_hot_encoding(list_label[6000:],10))"
   ]
  },
  {
   "cell_type": "code",
   "execution_count": 160,
   "metadata": {},
   "outputs": [],
   "source": [
    "def one_hot_encoding(array, num):\n",
    "    new_list = []\n",
    "    for i in array:\n",
    "        temp_list = [0]*num\n",
    "        temp_list[i] = 1\n",
    "        new_list.append(temp_list)\n",
    "    \n",
    "    return new_list\n",
    "\n",
    "def sigmoid(z):\n",
    "    a = 1 / (1 + np.exp(-z))\n",
    "    return a\n",
    "\n",
    "def softmax(z):\n",
    "    exp_z = np.exp(z)\n",
    "    return exp_z / np.sum(exp_z, axis=1).reshape(-1, 1)\n",
    "        "
   ]
  },
  {
   "cell_type": "code",
   "execution_count": 204,
   "metadata": {},
   "outputs": [],
   "source": [
    "# Architecture = [785, 197, 50, 10]\n",
    "\n",
    "class NNA:\n",
    "    def __init__(self, epochs = 100, lr=0.1, l2=0):\n",
    "        self.w1 = None\n",
    "        self.w2 = None\n",
    "        self.w3 = None\n",
    "        \n",
    "        self.a1 = None\n",
    "        self.a2 = None\n",
    "        \n",
    "        self.b1 = None\n",
    "        self.b2 = None\n",
    "        self.b3 = None\n",
    "\n",
    "        self.dw1 = None\n",
    "        self.dw2 = None\n",
    "        self.dw3 = None\n",
    "        \n",
    "        self.db1 = None\n",
    "        self.db2 = None\n",
    "        self.db3 = None\n",
    "        \n",
    "        self.loss_history = []\n",
    "        self.acc_history = []\n",
    "        self.val_loss_history = []\n",
    "        self.val_acc_history = []\n",
    "        \n",
    "        self.olr = lr\n",
    "        self.lr = lr\n",
    "        self.l2 = l2\n",
    "        self.epochs = epochs\n",
    "        \n",
    "    \n",
    "    def initialize(self):\n",
    "        self.w1 = np.random.normal(0, 1, (784, 196))\n",
    "        self.w2 = np.random.normal(0, 1, (196, 49))\n",
    "        self.w3 = np.random.normal(0, 1, (49, 10))\n",
    "        \n",
    "        self.b1 = np.zeros(196)\n",
    "        self.b2 = np.zeros(49)\n",
    "        self.b3 = np.zeros(10)\n",
    "        \n",
    "    def save_model(self):\n",
    "        np.savez(f\"model_{self.olr}_{self.l2}_{self.epochs}\", w1=self.w1, w2=self.w2, w3=self.w3, b1=self.b1, b2 = self.b2, b3 = self.b3)\n",
    "    \n",
    "    def load_model(self, path):\n",
    "        loaded = np.load(path)\n",
    "        self.w1 = loaded['w1']\n",
    "        self.w2 = loaded['w2']\n",
    "        self.w3 = loaded['w3']\n",
    "        self.b1 = loaded['b1']\n",
    "        self.b2 = loaded['b2']\n",
    "        self.b3 = loaded['b3']\n",
    "    \n",
    "    def forpass(self, x):\n",
    "        y = np.dot(x.T, self.w1) + self.b1\n",
    "        a1 = sigmoid(y)\n",
    "        self.a1 = a1\n",
    "        \n",
    "        z = np.dot(a1, self.w2) + self.b2\n",
    "        a2 = sigmoid(z)\n",
    "        self.a2 = a2\n",
    "        \n",
    "        f = np.dot(a2, self.w3) + self.b3\n",
    "        \n",
    "        return f\n",
    "    \n",
    "    def training(self, x, y):\n",
    "        m = len(x)\n",
    "        z = self.forpass(x)\n",
    "        a = softmax(z)\n",
    "        err = -(y - a)\n",
    "        self.backprop(x, err)\n",
    "        \n",
    "        self.dw1 += self.l2*self.w1 / m\n",
    "        self.dw2 += self.l2*self.w2 / m\n",
    "        self.dw3 += self.l2*self.w3 / m\n",
    "        \n",
    "        self.w1 -= self.lr * self.dw1\n",
    "        self.b1 -= self.lr * self.db1\n",
    "        \n",
    "        self.w2 -= self.lr * self.dw2\n",
    "        self.b2 -= self.lr * self.db2\n",
    "        \n",
    "        self.w3 -= self.lr * self.dw3\n",
    "        self.b3 -= self.lr * self.db3\n",
    "        \n",
    "        self.lr -= 1/self.epochs * (self.olr)\n",
    "        \n",
    "        return a\n",
    "        \n",
    "    def backprop(self, x, err):\n",
    "        m = len(x)\n",
    "        self.dw3 = np.dot(self.a2.T, err) / m\n",
    "        self.db3 = np.sum(err) / m\n",
    "        \n",
    "        err_hidden = np.dot(err, self.w3.T ) * self.a2 * (1 - self.a2)\n",
    "        \n",
    "        self.dw2 = np.dot(self.a1.T, err_hidden) /m\n",
    "        self.db2 = np.sum(err_hidden, axis=0) /m\n",
    "        \n",
    "        err_hidden2 = np.dot(err_hidden, self.w2.T) * self.a1 * ( 1- self.a1)\n",
    "        \n",
    "        self.dw1 = np.dot(x, err_hidden2) / m\n",
    "        self.db1 = np.sum(err_hidden2, axis=0)/m\n",
    "        \n",
    "    \n",
    "    def fit(self, x, y, val_x, val_y):\n",
    "        m =len(x)\n",
    "        for i in range(self.epochs):\n",
    "            a = self.training(x, y)\n",
    "            a = np.clip(a, 1e-10, 1-1e-10)\n",
    "            \n",
    "            loss = np.sum(-y*np.log(a)) + self.l2 / 2 * np.sum(self.w1**2) + self.l2 / 2 * np.sum(self.w2**2) + self.l2 / 2 * np.sum(self.w3**2)\n",
    "            \n",
    "            \n",
    "            z_v = self.forpass(x_val)\n",
    "            a_v = softmax(z_v)\n",
    "            a_v = np.clip(a_v, 1e-10, 1-1e-10)\n",
    "            \n",
    "            val_loss = np.sum(-y_val*np.log(a_v)) + self.l2 / 2 * np.sum(self.w1**2) + self.l2 / 2 * np.sum(self.w2**2) + self.l2 / 2 * np.sum(self.w3**2)\n",
    "            \n",
    "            \n",
    "            # save accurcay and loss\n",
    "            self.acc_history.append(np.mean(np.argmax(a, axis=1) == np.argmax(y, axis=1)))\n",
    "            self.loss_history.append(loss/m)\n",
    "            self.val_acc_history.append(np.mean(np.argmax(a_v, axis=1) == np.argmax(y_val, axis=1)))\n",
    "            self.val_loss_history.append(val_loss/m)\n",
    "\n",
    "    \n",
    "    # draw loss\n",
    "    def draw_err(self):\n",
    "        plt.plot(np.squeeze(self.loss_history), color='b', label='train')\n",
    "        plt.plot(np.squeeze(self.val_loss_history), color='r', label='test')\n",
    "        plt.ylabel('loss')            \n",
    "        plt.xlabel('iterations ')\n",
    "        plt.legend()\n",
    "        plt.title(\"Learning rate =\" + str(self.olr))\n",
    "        plt.show()\n",
    "    \n",
    "    # draw accuracy\n",
    "    def draw_acc(self):\n",
    "        plt.plot(np.squeeze(self.acc_history), color='b', label='train')\n",
    "        plt.plot(np.squeeze(self.val_acc_history), color='r', label='test')\n",
    "        plt.ylabel('accuracy')\n",
    "        plt.xlabel('iterations ')\n",
    "        plt.legend()\n",
    "        plt.title(\"Learning rate =\" + str(self.olr))\n",
    "        plt.show()\n",
    "    \n",
    "    def get_acc(self):\n",
    "        return self.acc_history[-1]\n",
    "    def get_val_acc(self):\n",
    "        return self.val_acc_history[-1]\n",
    "    def predict(self, x):\n",
    "        z = self.forpass(x)\n",
    "        return np.argmax(z, axis=1)\n",
    "        "
   ]
  },
  {
   "cell_type": "code",
   "execution_count": 205,
   "metadata": {},
   "outputs": [],
   "source": [
    "net1 = NNA(epochs = 3000, lr = 0.1, l2 = 0.001)"
   ]
  },
  {
   "cell_type": "code",
   "execution_count": 206,
   "metadata": {},
   "outputs": [],
   "source": [
    "net1.initialize()\n",
    "net1.fit(x_train, y_train,x_val, y_val)"
   ]
  },
  {
   "cell_type": "code",
   "execution_count": 207,
   "metadata": {},
   "outputs": [],
   "source": [
    "net1.save_model()"
   ]
  },
  {
   "cell_type": "code",
   "execution_count": 191,
   "metadata": {},
   "outputs": [],
   "source": [
    "count = 0\n",
    "correct_index = []\n",
    "pre = net1.predict(x_val)\n",
    "for i in range(4000):\n",
    "    if pre[i] == np.argmax(y_val[i]):\n",
    "        count+=1\n",
    "        correct_index.append(i)\n",
    "    if count == 10:\n",
    "        break\n",
    "\n"
   ]
  },
  {
   "cell_type": "code",
   "execution_count": 212,
   "metadata": {},
   "outputs": [],
   "source": [
    "count = 0\n",
    "wrong_index = []\n",
    "pre = net1.predict(x_val)\n",
    "for i in range(4000):\n",
    "    if pre[i] != np.argmax(y_val[i]):\n",
    "        count+=1\n",
    "        wrong_index.append(i)\n",
    "    if count == 10:\n",
    "        break"
   ]
  },
  {
   "cell_type": "markdown",
   "metadata": {},
   "source": [
    "## 1. Plot the loss curve"
   ]
  },
  {
   "cell_type": "code",
   "execution_count": 208,
   "metadata": {},
   "outputs": [
    {
     "data": {
      "image/png": "[encoded data removed]",
      "text/plain": [
       "<Figure size 432x288 with 1 Axes>"
      ]
     },
     "metadata": {
      "needs_background": "light"
     },
     "output_type": "display_data"
    }
   ],
   "source": [
    "net1.draw_err()"
   ]
  },
  {
   "cell_type": "markdown",
   "metadata": {},
   "source": [
    "## 2. Plot the accuracy curve"
   ]
  },
  {
   "cell_type": "code",
   "execution_count": 209,
   "metadata": {},
   "outputs": [
    {
     "data": {
      "image/png": "[encoded data removed]",
      "text/plain": [
       "<Figure size 432x288 with 1 Axes>"
      ]
     },
     "metadata": {
      "needs_background": "light"
     },
     "output_type": "display_data"
    }
   ],
   "source": [
    "net1.draw_acc()"
   ]
  },
  {
   "cell_type": "markdown",
   "metadata": {},
   "source": [
    "## 3. Plot the accuracy value"
   ]
  },
  {
   "cell_type": "code",
   "execution_count": 210,
   "metadata": {},
   "outputs": [
    {
     "name": "stdout",
     "output_type": "stream",
     "text": [
      "training accuracy   : 97.93333333333332% \n",
      "validation accuracy : 86.25%\n"
     ]
    }
   ],
   "source": [
    "print( f\"training accuracy   : {net1.get_acc() * 100}% \\nvalidation accuracy : {net1.val_acc_history[-1]*100}%\")"
   ]
  },
  {
   "cell_type": "markdown",
   "metadata": {},
   "source": [
    "## 4. Plot the classification example"
   ]
  },
  {
   "cell_type": "code",
   "execution_count": 211,
   "metadata": {},
   "outputs": [
    {
     "data": {
      "image/png": "[encoded data removed]",
      "text/plain": [
       "<Figure size 432x288 with 10 Axes>"
      ]
     },
     "metadata": {
      "needs_background": "light"
     },
     "output_type": "display_data"
    }
   ],
   "source": [
    "for i in range(10):\n",
    "    index = correct_index[i]\n",
    "    label =  np.argmax(y_val[index])\n",
    "    im_vector = x_val[:, index]\n",
    "    im_matrix = im_vector.reshape((28, 28))\n",
    "            \n",
    "    plt.subplot(2, 5, i+1)\n",
    "    plt.title(label)\n",
    "    plt.imshow(im_matrix, cmap='Greys', interpolation='None')\n",
    "            \n",
    "    frame = plt.gca()\n",
    "    frame.axes.get_xaxis().set_visible(False)\n",
    "    frame.axes.get_yaxis().set_visible(False)"
   ]
  },
  {
   "cell_type": "code",
   "execution_count": 213,
   "metadata": {},
   "outputs": [
    {
     "data": {
      "image/png": "[encoded data removed]",
      "text/plain": [
       "<Figure size 432x288 with 10 Axes>"
      ]
     },
     "metadata": {
      "needs_background": "light"
     },
     "output_type": "display_data"
    }
   ],
   "source": [
    "for i in range(10):\n",
    "    index = wrong_index[i]\n",
    "    label =  pre[index]\n",
    "    im_vector = x_val[:, index]\n",
    "    im_matrix = im_vector.reshape((28, 28))\n",
    "            \n",
    "    plt.subplot(2, 5, i+1)\n",
    "    plt.title(label)\n",
    "    plt.imshow(im_matrix, cmap='Greys', interpolation='None')\n",
    "            \n",
    "    frame = plt.gca()\n",
    "    frame.axes.get_xaxis().set_visible(False)\n",
    "    frame.axes.get_yaxis().set_visible(False)"
   ]
  },
  {
   "cell_type": "code",
   "execution_count": null,
   "metadata": {},
   "outputs": [],
   "source": []
  }
 ],
 "metadata": {
  "kernelspec": {
   "display_name": "Python 3",
   "language": "python",
   "name": "python3"
  },
  "language_info": {
   "codemirror_mode": {
    "name": "ipython",
    "version": 3
   },
   "file_extension": ".py",
   "mimetype": "text/x-python",
   "name": "python",
   "nbconvert_exporter": "python",
   "pygments_lexer": "ipython3",
   "version": "3.7.4"
  }
 },
 "nbformat": 4,
 "nbformat_minor": 2
}

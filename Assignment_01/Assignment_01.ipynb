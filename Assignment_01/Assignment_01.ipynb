{
 "cells": [
  {
   "cell_type": "markdown",
   "metadata": {},
   "source": [
    "# Linear Regression\n",
    "\n",
    "1. Data\n",
    "\n",
    "- generate a set of $`m`$ point pairs $`\\{ (x^{(i)}, y^{(i)}) \\}_{i = 1}^m`$ from random perturbations using `random` function based on a linear function that you define\n",
    "- $`\\hat{y} = a x + b`$ where $`a, b \\in \\mathbb{R}`$\n",
    "- $`y = \\hat{y} + n`$ where $`n \\sim \\mathcal{N}(0, \\sigma^2)`$ is drawn from the normal distribution with mean $`0`$ and standard deviation $`\\sigma`$\n",
    "- you can choose $`m, a, b`$ and $`\\sigma > 0`$\n",
    "\n",
    "2. Linear Model\n",
    "\n",
    "- $`h_\\theta(x) = \\theta_0 + \\theta_1 x`$, $`\\quad`$ where $`\\theta = (\\theta_0, \\theta_1)`$ and $`\\theta_0, \\theta_1 \\in \\mathbb{R}`$\n",
    "\n",
    "3. Objective Function\n",
    "\n",
    "- $`J(\\theta) = \\frac{1}{2 m} \\sum_{i=1}^m (h_\\theta(x^{(i)}) - y^{(i)})^2`$\n",
    "\n",
    "4. Gradient Descent\n",
    " \n",
    "- $`\\theta_0^{(t+1)} \\coloneqq \\theta_0^{(t)} - \\alpha \\frac{1}{m} \\sum_{i=1}^{m} (h_\\theta(x^{(i)}) - y^{(i)})`$\n",
    "- $`\\theta_1^{(t+1)} \\coloneqq \\theta_1^{(t)} - \\alpha \\frac{1}{m} \\sum_{i=1}^{m} (h_\\theta(x^{(i)}) - y^{(i)}) x^{(i)}`$\n",
    "- you can choose a step-size (learning rate) $`\\alpha > 0`$ in $`\\mathbb{R}`$\n",
    "- you can choose any initial conditions for $`\\theta_0^{(0)}`$ and $`\\theta_1^{(0)}`$\n",
    "\n",
    "## Submission\n",
    "\n",
    "### 1. Codes, Comments and Results\n",
    "\n",
    "_PDF file that is exported from Notebook including codes, comments, and results for the above problems at `github`_\n",
    "\n",
    "#### [Plotting the results]\n",
    "\n",
    "1. Input data [2pt]\n",
    "- a straight line that is the graph of a linear function (in blue color)\n",
    "- a set of points that have random perturbations with respect to the straight line (in black color)\n",
    "\n",
    "2. Output results [2pt]\n",
    "- the set of points that have random perturbations with respect to the straight line (in black color)\n",
    "- a straight line that is the graph of a solution obtained by linear regression (in red color)\n",
    "\n",
    "3. Plotting the energy values [3pt]\n",
    "- the value of the objective function at every optimization step by the gradient descent algorithm (in blue color)\n",
    "- the optimization should be performed until convergence\n",
    "\n",
    "4. Plotting the model parameters [3pt]\n",
    "- the value of the model parameters $`\\theta_0`$ and $`\\theta_1`$ at every optimization step (in red ($`\\theta_0`$) and blue ($`\\theta_1`$) colors)\n",
    "- the optimization should be performed until convergence\n",
    "\n",
    "### 2. Commit History\n",
    "\n",
    "_PDF file that is exported from the commit history at github_\n",
    "\n",
    "#### [Apply `commit` at the end of the implementations at least for the following steps]\n",
    "\n",
    "You can `commit` as many as you want and the order of commits does not matter at all, but you have to make meaningful and proper comments at commit message\n",
    "\n",
    "1. Plotting the input data [1pt]\n",
    "2. Plotting the output results [1pt]\n",
    "3. Plotting the energy values [1pt]\n",
    "4. Plotting the model parameters [1pt]"
   ]
  },
  {
   "cell_type": "code",
   "execution_count": 1,
   "metadata": {},
   "outputs": [],
   "source": [
    "import numpy as np\n",
    "import matplotlib.pyplot as plt\n",
    "\n",
    "%matplotlib inline"
   ]
  },
  {
   "cell_type": "code",
   "execution_count": 78,
   "metadata": {},
   "outputs": [],
   "source": [
    "M = 300\n",
    "np.random.seed(7777)\n",
    "\n",
    "a = np.random.random()*10\n",
    "b = np.random.random()*10"
   ]
  },
  {
   "cell_type": "code",
   "execution_count": 79,
   "metadata": {},
   "outputs": [
    {
     "name": "stdout",
     "output_type": "stream",
     "text": [
      "8.115051255658265\n"
     ]
    }
   ],
   "source": [
    "print(a)"
   ]
  },
  {
   "cell_type": "code",
   "execution_count": 80,
   "metadata": {},
   "outputs": [
    {
     "name": "stdout",
     "output_type": "stream",
     "text": [
      "6.923241430440182\n"
     ]
    }
   ],
   "source": [
    "print(b)"
   ]
  },
  {
   "cell_type": "code",
   "execution_count": 91,
   "metadata": {},
   "outputs": [],
   "source": [
    "mu, sigma = 0, M # mean and standard deviation\n",
    "s = np.random.normal(mu, sigma, M)"
   ]
  },
  {
   "cell_type": "code",
   "execution_count": 92,
   "metadata": {},
   "outputs": [],
   "source": [
    "x = np.random.normal(0, M, M)"
   ]
  },
  {
   "cell_type": "code",
   "execution_count": 93,
   "metadata": {},
   "outputs": [
    {
     "data": {
      "text/plain": [
       "9.172256746173446"
      ]
     },
     "execution_count": 93,
     "metadata": {},
     "output_type": "execute_result"
    }
   ],
   "source": [
    "np.mean(x)"
   ]
  },
  {
   "cell_type": "code",
   "execution_count": 94,
   "metadata": {},
   "outputs": [],
   "source": [
    "y_hat = a * x + b + s*10"
   ]
  },
  {
   "cell_type": "code",
   "execution_count": 100,
   "metadata": {},
   "outputs": [
    {
     "data": {
      "text/plain": [
       "<matplotlib.collections.PathCollection at 0x23704be9ec8>"
      ]
     },
     "execution_count": 100,
     "metadata": {},
     "output_type": "execute_result"
    },
    {
     "data": {
      "image/png": "[encoded data removed]",
      "text/plain": [
       "<Figure size 432x288 with 1 Axes>"
      ]
     },
     "metadata": {
      "needs_background": "light"
     },
     "output_type": "display_data"
    }
   ],
   "source": [
    "x_for_line = np.arange(-800, 800, 10)\n",
    "y_for_line = x_for_line * a + b\n",
    "plt.plot(x_for_line, y_for_line, color='blue')\n",
    "plt.scatter(x, y_hat, color='black')"
   ]
  },
  {
   "cell_type": "code",
   "execution_count": null,
   "metadata": {},
   "outputs": [],
   "source": []
  }
 ],
 "metadata": {
  "kernelspec": {
   "display_name": "Python 3",
   "language": "python",
   "name": "python3"
  },
  "language_info": {
   "codemirror_mode": {
    "name": "ipython",
    "version": 3
   },
   "file_extension": ".py",
   "mimetype": "text/x-python",
   "name": "python",
   "nbconvert_exporter": "python",
   "pygments_lexer": "ipython3",
   "version": "3.7.4"
  }
 },
 "nbformat": 4,
 "nbformat_minor": 2
}

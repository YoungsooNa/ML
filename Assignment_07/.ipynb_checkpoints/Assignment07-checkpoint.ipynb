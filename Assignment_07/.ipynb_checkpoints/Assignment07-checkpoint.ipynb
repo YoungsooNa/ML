{
 "cells": [
  {
   "cell_type": "code",
   "execution_count": 2,
   "metadata": {},
   "outputs": [
    {
     "data": {
      "image/png": "[encoded data removed]",
      "text/plain": [
       "<Figure size 432x288 with 1 Axes>"
      ]
     },
     "metadata": {
      "needs_background": "light"
     },
     "output_type": "display_data"
    }
   ],
   "source": [
    "import numpy as np\n",
    "import matplotlib.pyplot as plt\n",
    "%matplotlib inline\n",
    "\n",
    "data    = np.genfromtxt(\"data-nonlinear.txt\", delimiter=',')\n",
    "\n",
    "pointX  = data[:, 0]\n",
    "pointY  = data[:, 1]\n",
    "label   = data[:, 2]\n",
    "\n",
    "pointX0 = pointX[label == 0]\n",
    "pointY0 = pointY[label == 0]\n",
    "\n",
    "pointX1 = pointX[label == 1]\n",
    "pointY1 = pointY[label == 1]\n",
    "\n",
    "plt.figure()\n",
    "plt.scatter(pointX0, pointY0, c='b')\n",
    "plt.scatter(pointX1, pointY1, c='r')\n",
    "plt.tight_layout()\n",
    "plt.gca().set_aspect('equal', adjustable='box')\n",
    "plt.show()\n"
   ]
  },
  {
   "cell_type": "code",
   "execution_count": 4,
   "metadata": {},
   "outputs": [],
   "source": [
    "X = []\n",
    "for i in range(10):\n",
    "    for k in range(10):\n",
    "        X = np.append(X, pointX**(i) * pointY**(k))\n",
    "X = np.reshape(X, (setaN, len(pointX)))"
   ]
  },
  {
   "cell_type": "code",
   "execution_count": 5,
   "metadata": {},
   "outputs": [
    {
     "data": {
      "text/plain": [
       "(11800,)"
      ]
     },
     "execution_count": 5,
     "metadata": {},
     "output_type": "execute_result"
    }
   ],
   "source": [
    "X.shape"
   ]
  },
  {
   "cell_type": "code",
   "execution_count": 6,
   "metadata": {},
   "outputs": [
    {
     "data": {
      "text/plain": [
       "array([ 1.00000000e+00,  1.00000000e+00,  1.00000000e+00, ...,\n",
       "       -1.46011239e-03, -1.63579513e-20, -3.83263052e-16])"
      ]
     },
     "execution_count": 6,
     "metadata": {},
     "output_type": "execute_result"
    }
   ],
   "source": [
    "X"
   ]
  },
  {
   "cell_type": "code",
   "execution_count": 21,
   "metadata": {},
   "outputs": [],
   "source": [
    "setaN = 100\n",
    "\n",
    "# o = overfitting , j = just right , u = underfitting\n",
    "\n",
    "o_seta = np.asarray([0.1] * setaN)\n",
    "j_seta = np.asarray([0.1] * setaN)\n",
    "u_seta = np.asarray([0.1] * setaN)\n",
    "\n",
    "np.reshape(o_seta, (setaN, 1))\n",
    "np.reshape(o_seta, (setaN, 1))\n",
    "np.reshape(o_seta, (setaN, 1))\n",
    "\n",
    "o_err_list = []\n",
    "j_err_list = []\n",
    "u_err_list = []\n",
    "\n",
    "o_accuracy_list = []\n",
    "j_accuracy_list = []\n",
    "u_accuracy_list = []\n",
    "\n",
    "lr = 0.05\n",
    "epochs = 50000\n",
    "\n",
    "o_A = None\n",
    "j_A = None\n",
    "u_A = None\n",
    "M = len(pointX)\n",
    "\n",
    "o_l = 0.001\n",
    "j_l = 0.1\n",
    "u_l = 10\n",
    "\n",
    "for i in range(epochs):\n",
    "    #forpass\n",
    "    o_Z = np.dot(o_seta, X)\n",
    "    j_Z = np.dot(j_seta, X)\n",
    "    u_Z = np.dot(u_seta, X)\n",
    "    \n",
    "    o_A = 1/(1+np.exp(-o_Z))\n",
    "    j_A = 1/(1+np.exp(-j_Z))\n",
    "    u_A = 1/(1+np.exp(-u_Z))\n",
    "    \n",
    "    o_ERR = -(label-o_A)\n",
    "    j_ERR = -(label-j_A)\n",
    "    u_ERR = -(label-u_A)\n",
    "    \n",
    "    #backprop\n",
    "    for k in range(setaN):\n",
    "        o_seta[k] = (1 - lr * j_l) * o_seta[k] - lr * np.sum(o_ERR * X[k]) / M\n",
    "        j_seta[k] = (1 - lr * j_l) * j_seta[k] - lr * np.sum(j_ERR * X[k]) / M\n",
    "        u_seta[k] = (1 - lr * u_l) * u_seta[k] - lr * np.sum(u_ERR * X[k]) / M\n",
    "    \n",
    "    #history\n",
    "    o_accuracy_list.append(np.mean((o_A > 0.5) ==  label))\n",
    "    j_accuracy_list.append(np.mean((j_A > 0.5) ==  label))\n",
    "    u_accuracy_list.append(np.mean((u_A > 0.5) ==  label))\n",
    "    \n",
    "    o_A = np.clip(o_A, 1e-10, 1-1e-10)\n",
    "    j_A = np.clip(j_A, 1e-10, 1-1e-10)\n",
    "    u_A = np.clip(u_A, 1e-10, 1-1e-10)\n",
    "    \n",
    "    o_loss = np.sum(-(label*np.log(o_A) + (1-label)*np.log(1-o_A)))/M + o_l / 2 * np.sum(o_seta**2)\n",
    "    j_loss = np.sum(-(label*np.log(j_A) + (1-label)*np.log(1-j_A)))/M + j_l / 2 * np.sum(j_seta**2)\n",
    "    u_loss = np.sum(-(label*np.log(u_A) + (1-label)*np.log(1-u_A)))/M + u_l / 2 * np.sum(u_seta**2)\n",
    "    \n",
    "    \n",
    "    o_err_list.append(o_loss)\n",
    "    j_err_list.append(j_loss)\n",
    "    u_err_list.append(u_loss)"
   ]
  },
  {
   "cell_type": "code",
   "execution_count": 24,
   "metadata": {},
   "outputs": [
    {
     "data": {
      "image/png": "[encoded data removed]",
      "text/plain": [
       "<Figure size 432x288 with 1 Axes>"
      ]
     },
     "metadata": {
      "needs_background": "light"
     },
     "output_type": "display_data"
    }
   ],
   "source": [
    "plt.plot(np.squeeze(o_err_list[200:]), color='r')\n",
    "plt.plot(np.squeeze(j_err_list[200:]), color='g')\n",
    "plt.plot(np.squeeze(u_err_list[200:]), color='b')\n",
    "plt.ylabel('training error')\n",
    "plt.xlabel('iterations ')\n",
    "plt.title(\"Learning rate =\" + str(lr))\n",
    "plt.show()"
   ]
  },
  {
   "cell_type": "code",
   "execution_count": 41,
   "metadata": {},
   "outputs": [
    {
     "name": "stdout",
     "output_type": "stream",
     "text": [
      "\u001b[1;30m over-fitting   \u001b[1;31m0.001  \n",
      "\u001b[1;30m just-right      \u001b[1;32m0.1 \n",
      "\u001b[1;30m under-fitting    \u001b[1;34m 10\n"
     ]
    }
   ],
   "source": [
    "print(f\"\\033[1;30m over-fitting   \\033[1;31m{o_l}  \\n\\033[1;30m just-right      \\033[1;32m{j_l} \\n\\033[1;30m under-fitting    \\033[1;34m {u_l}\")"
   ]
  },
  {
   "cell_type": "code",
   "execution_count": null,
   "metadata": {},
   "outputs": [],
   "source": []
  }
 ],
 "metadata": {
  "kernelspec": {
   "display_name": "Python 3",
   "language": "python",
   "name": "python3"
  },
  "language_info": {
   "codemirror_mode": {
    "name": "ipython",
    "version": 3
   },
   "file_extension": ".py",
   "mimetype": "text/x-python",
   "name": "python",
   "nbconvert_exporter": "python",
   "pygments_lexer": "ipython3",
   "version": "3.7.4"
  }
 },
 "nbformat": 4,
 "nbformat_minor": 2
}

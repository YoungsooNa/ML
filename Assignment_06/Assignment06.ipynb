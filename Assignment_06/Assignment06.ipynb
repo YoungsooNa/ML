{
 "cells": [
  {
   "cell_type": "code",
   "execution_count": 1,
   "metadata": {},
   "outputs": [
    {
     "name": "stdout",
     "output_type": "stream",
     "text": [
      "hello world\n"
     ]
    }
   ],
   "source": [
    "print(\"hello world\")"
   ]
  },
  {
   "cell_type": "code",
   "execution_count": 21,
   "metadata": {},
   "outputs": [
    {
     "data": {
      "image/png": "[encoded data removed]",
      "text/plain": [
       "<Figure size 432x288 with 1 Axes>"
      ]
     },
     "metadata": {
      "needs_background": "light"
     },
     "output_type": "display_data"
    }
   ],
   "source": [
    "import numpy as np\n",
    "import matplotlib.pyplot as plt\n",
    "%matplotlib inline\n",
    "\n",
    "data    = np.genfromtxt(\"data-nonlinear.txt\", delimiter=',')\n",
    "\n",
    "pointX  = data[:, 0]\n",
    "pointY  = data[:, 1]\n",
    "label   = data[:, 2]\n",
    "\n",
    "pointX0 = pointX[label == 0]\n",
    "pointY0 = pointY[label == 0]\n",
    "\n",
    "pointX1 = pointX[label == 1]\n",
    "pointY1 = pointY[label == 1]\n",
    "\n",
    "plt.figure()\n",
    "plt.scatter(pointX0, pointY0, c='b')\n",
    "plt.scatter(pointX1, pointY1, c='r')\n",
    "plt.tight_layout()\n",
    "plt.gca().set_aspect('equal', adjustable='box')\n",
    "plt.show()\n",
    "\n",
    "\n",
    "X = np.append(np.append(np.append(np.append( np.asarray([1]*118) , pointX) , pointY), pointX**2), pointY**2)\n",
    "X = np.append(np.append(np.append(np.append(X, pointX**3),pointY**3), pointX**4),pointY**4)\n",
    "X = np.reshape(X, (9, len(pointX)))\n"
   ]
  },
  {
   "cell_type": "markdown",
   "metadata": {},
   "source": [
    "$$g(x, y, \\theta) = \\theta_0 + \\theta_1 x + \\theta_2 y + \\theta_3 x^2 + \\theta_4 y^2 $$"
   ]
  },
  {
   "cell_type": "code",
   "execution_count": null,
   "metadata": {},
   "outputs": [],
   "source": [
    "setaN = 9\n",
    "seta = np.asarray([0.1] * setaN)\n",
    "np.reshape(seta, (setaN, 1))\n",
    "err_list = []\n",
    "\n",
    "lr = 0.002\n",
    "epochs = 2000000\n",
    "A = None\n",
    "M = len(pointX)\n",
    "\n",
    "for i in range(epochs):\n",
    "    #forpass\n",
    "    Z = np.dot(seta, X)\n",
    "    A = 1/(1+np.exp(-Z))\n",
    "    ERR = -(label-A)\n",
    "    \n",
    "    #backprop\n",
    "    for k in range(setaN):\n",
    "        seta[k] -= lr * np.sum(ERR * X[k]) / M\n",
    "    \n",
    "    #history\n",
    "    A = np.clip(A, 1e-10, 1-1e-10)\n",
    "    \n",
    "    loss = np.sum(-(label*np.log(A) + (1-label)*np.log(1-A)))/M\n",
    "    err_list.append(loss)"
   ]
  },
  {
   "cell_type": "code",
   "execution_count": 18,
   "metadata": {},
   "outputs": [
    {
     "name": "stdout",
     "output_type": "stream",
     "text": [
      "95\n"
     ]
    }
   ],
   "source": [
    "correct = 0\n",
    "for i, a in enumerate(A):\n",
    "    if a <= 0.5 and label[i] == 0 :\n",
    "        correct += 1\n",
    "    elif a > 0.5 and label[i] == 1:\n",
    "        correct += 1\n",
    "\n",
    "print(correct)"
   ]
  },
  {
   "cell_type": "code",
   "execution_count": 19,
   "metadata": {},
   "outputs": [
    {
     "data": {
      "image/png": "[encoded data removed]",
      "text/plain": [
       "<Figure size 432x288 with 1 Axes>"
      ]
     },
     "metadata": {
      "needs_background": "light"
     },
     "output_type": "display_data"
    }
   ],
   "source": [
    "plt.plot(np.squeeze(err_list[600:]), color='b')\n",
    "plt.ylabel('training error')\n",
    "plt.xlabel('iterations ')\n",
    "plt.title(\"Learning rate =\" + str(lr))\n",
    "plt.show()"
   ]
  },
  {
   "cell_type": "code",
   "execution_count": null,
   "metadata": {},
   "outputs": [],
   "source": []
  }
 ],
 "metadata": {
  "kernelspec": {
   "display_name": "Python 3",
   "language": "python",
   "name": "python3"
  },
  "language_info": {
   "codemirror_mode": {
    "name": "ipython",
    "version": 3
   },
   "file_extension": ".py",
   "mimetype": "text/x-python",
   "name": "python",
   "nbconvert_exporter": "python",
   "pygments_lexer": "ipython3",
   "version": "3.7.4"
  }
 },
 "nbformat": 4,
 "nbformat_minor": 2
}

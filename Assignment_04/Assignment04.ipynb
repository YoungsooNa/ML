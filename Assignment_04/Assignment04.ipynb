{
 "cells": [
  {
   "cell_type": "code",
   "execution_count": 246,
   "metadata": {},
   "outputs": [],
   "source": [
    "import csv\n",
    "import numpy as np\n",
    "\n",
    "train_data = np.ones((300, 4))\n",
    "train_y = np.zeros((300, 1))\n",
    "test_data = np.ones((300, 4))\n",
    "test_y = np.zeros((300, 1))\n",
    "\n",
    "train_x_data = []\n",
    "train_y_data = []\n",
    "train_z_data = []\n",
    "train_h_data = []\n",
    "\n",
    "test_x_data = []\n",
    "test_y_data = []\n",
    "test_z_data = []\n",
    "test_h_data = []\n",
    "\n",
    "\n",
    "with open('data_train.csv', newline='') as myfile:\n",
    "    reader  = csv.reader(myfile, delimiter=',')\n",
    "    for i in reader:\n",
    "        train_x_data.append(i[0])\n",
    "        train_y_data.append(i[1])\n",
    "        train_z_data.append(i[2])\n",
    "        train_h_data.append(i[3])\n",
    "\n",
    "with open('data_test.csv', newline='') as myfile:\n",
    "    reader  = csv.reader(myfile, delimiter=',')\n",
    "    for i in reader:\n",
    "        test_x_data.append(i[0])\n",
    "        test_y_data.append(i[1])\n",
    "        test_z_data.append(i[2])\n",
    "        test_h_data.append(i[3])\n",
    "\n",
    "train_x_data = np.array(train_x_data).astype(np.float)\n",
    "train_y_data = np.array(train_y_data).astype(np.float)\n",
    "train_z_data = np.array(train_z_data).astype(np.float)\n",
    "train_h_data = np.array(train_h_data).astype(np.float)\n",
    "\n",
    "test_x_data = np.array(test_x_data).astype(np.float)\n",
    "test_y_data = np.array(test_y_data).astype(np.float)\n",
    "test_z_data = np.array(test_z_data).astype(np.float)\n",
    "test_h_data = np.array(test_h_data).astype(np.float)"
   ]
  },
  {
   "cell_type": "code",
   "execution_count": 250,
   "metadata": {},
   "outputs": [],
   "source": [
    "epochs = 5000\n",
    "lr = 0.00001\n",
    "\n",
    "seta_0 = -1\n",
    "seta_1 = 0\n",
    "seta_2 = 1\n",
    "seta_3 = 2\n",
    "\n",
    "prev = 0\n",
    "\n",
    "train_err_list = []\n",
    "test_err_list = []\n",
    "\n",
    "\n",
    "seta_0_list = [seta_0]\n",
    "seta_1_list = [seta_1]\n",
    "seta_2_list = [seta_2]\n",
    "seta_3_list = [seta_3]\n",
    "\n",
    "M = len(train_x_data)\n",
    "\n",
    "for i in range(epochs):\n",
    "    err0 = 0\n",
    "    err1 = 0\n",
    "    err2 = 0\n",
    "    err3 = 0\n",
    "    err_t = 0\n",
    "    \n",
    "    for x_i, y_i, z_i, h_i in zip(train_x_data, train_y_data, train_z_data, train_h_data):\n",
    "        \n",
    "        y_hat = z_i*seta_3 + y_i * seta_2 + x_i * seta_1 + seta_0\n",
    "        #print(f\"{x_i} , {y_i} , {z_i} , {h_i}, {y_hat} = {h_i - y_hat}\")\n",
    "        err = h_i - y_hat\n",
    "        err0 += err\n",
    "        err1 += err * x_i\n",
    "        err2 += err * y_i\n",
    "        err3 += err * z_i\n",
    "    \n",
    "    for x_i, y_i, z_i, h_i in zip(test_x_data, test_y_data, test_z_data, test_h_data):\n",
    "        y_hat = z_i*seta_3 + y_i * seta_2 + x_i * seta_1 + seta_0\n",
    "        err_t += h_i - y_hat\n",
    "    #print(err0/M)\n",
    "    #print(f\"{seta_0} , {seta_1} , {seta_2} , {seta_3}\")\n",
    "    seta_3 = seta_3 + lr * err3 / M\n",
    "    seta_2 = seta_2 + lr * err2 / M\n",
    "    seta_1 = seta_1 + lr * err1 / M\n",
    "    seta_0 = seta_0 + lr * err0 / M\n",
    "    \n",
    "    #history\n",
    "    seta_0_list.append(seta_0)\n",
    "    seta_1_list.append(seta_1)\n",
    "    seta_2_list.append(seta_2)\n",
    "    seta_3_list.append(seta_3)\n",
    "    \n",
    "    train_err_list.append((err0**2)/(2*M))\n",
    "    test_err_list.append((err_t**2)/(2*M))\n",
    "    \n",
    "    \n",
    "    \n",
    "\n",
    "    \n",
    "    "
   ]
  },
  {
   "cell_type": "code",
   "execution_count": 253,
   "metadata": {},
   "outputs": [
    {
     "data": {
      "image/png": "[encoded data removed]",
      "text/plain": [
       "<Figure size 432x288 with 1 Axes>"
      ]
     },
     "metadata": {
      "needs_background": "light"
     },
     "output_type": "display_data"
    }
   ],
   "source": [
    "import numpy as np\n",
    "import matplotlib.pyplot as plt\n",
    "\n",
    "%matplotlib inline\n",
    "\n",
    "plt.plot(np.squeeze(seta_0_list), label='seta0')\n",
    "plt.plot(np.squeeze(seta_1_list), label='seta1')\n",
    "plt.plot(np.squeeze(seta_2_list), label='seta2')\n",
    "plt.plot(np.squeeze(seta_3_list), label='seta3')\n",
    "plt.ylabel('parameters')\n",
    "plt.xlabel('iterations ')\n",
    "plt.legend()\n",
    "plt.title(\"Learning rate =\" + str(lr))\n",
    "plt.show()"
   ]
  },
  {
   "cell_type": "code",
   "execution_count": null,
   "metadata": {},
   "outputs": [],
   "source": []
  }
 ],
 "metadata": {
  "kernelspec": {
   "display_name": "Python 3",
   "language": "python",
   "name": "python3"
  },
  "language_info": {
   "codemirror_mode": {
    "name": "ipython",
    "version": 3
   },
   "file_extension": ".py",
   "mimetype": "text/x-python",
   "name": "python",
   "nbconvert_exporter": "python",
   "pygments_lexer": "ipython3",
   "version": "3.7.4"
  }
 },
 "nbformat": 4,
 "nbformat_minor": 2
}
